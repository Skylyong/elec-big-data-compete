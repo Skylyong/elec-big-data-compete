{
 "cells": [
  {
   "cell_type": "markdown",
   "source": [
    "### 使用聚类分析和降维方法分析特征和标签的关系"
   ],
   "metadata": {
    "collapsed": false,
    "pycharm": {
     "name": "#%% md\n"
    }
   }
  },
  {
   "cell_type": "code",
   "execution_count": 1,
   "outputs": [],
   "source": [
    "import numpy as np\n",
    "from back_tool import processing_data\n",
    "import matplotlib.pyplot as plt\n",
    "from sklearn.cluster import KMeans, AgglomerativeClustering\n",
    "from sklearn.mixture import GaussianMixture\n",
    "from sklearn.metrics import silhouette_samples, silhouette_score\n",
    "from sklearn.metrics import adjusted_rand_score, normalized_mutual_info_score\n",
    "from scipy.cluster.hierarchy import dendrogram\n",
    "import pandas as pd\n",
    "from sklearn.decomposition import PCA\n",
    "from sklearn.manifold import TSNE\n",
    "from sklearn.preprocessing import StandardScaler\n"
   ],
   "metadata": {
    "collapsed": false,
    "pycharm": {
     "name": "#%%\n"
    }
   }
  },
  {
   "cell_type": "markdown",
   "source": [
    "#### 1. 设置配置文件"
   ],
   "metadata": {
    "collapsed": false,
    "pycharm": {
     "name": "#%% md\n"
    }
   }
  },
  {
   "cell_type": "code",
   "execution_count": null,
   "outputs": [],
   "source": [
    "CFG = {  # 训练的参数配置\n",
    "    'seed': 2,\n",
    "    'train_data': '模式识别数据集/train_data.pkl',\n",
    "    'test_data': None,\n",
    "    'val_data': '模式识别数据集/validation_data.pkl',\n",
    "    'processing_data': False,\n",
    "    'seq_length': 10, # 序列长度\n",
    "    'sample_n': 100,  # 抽取的样本条数，None表示抽取全部样本\n",
    "    'feature_count': [0,-1],  # 使用哪些列特征\n",
    "}\n",
    "np.random.seed(CFG['seed'])"
   ],
   "metadata": {
    "collapsed": false,
    "pycharm": {
     "name": "#%%\n"
    }
   }
  },
  {
   "cell_type": "markdown",
   "source": [
    "#### 2. 导入数据集并处理数据"
   ],
   "metadata": {
    "collapsed": false,
    "pycharm": {
     "name": "#%% md\n"
    }
   }
  },
  {
   "cell_type": "code",
   "execution_count": null,
   "outputs": [],
   "source": [
    "if CFG['processing_data']:\n",
    "    processing_data('模式识别数据集', 'train', n=CFG['sample_n'])\n",
    "    processing_data('模式识别数据集', 'validation', n=CFG['sample_n'])\n",
    "train_df = pd.read_pickle(CFG['train_data'])\n",
    "test_df = None\n",
    "val_df = pd.read_pickle(CFG['val_data'])\n",
    "\n",
    "X_train, y_train = train_df\n",
    "X_val, y_val = val_df"
   ],
   "metadata": {
    "collapsed": false,
    "pycharm": {
     "name": "#%%\n"
    }
   }
  },
  {
   "cell_type": "code",
   "execution_count": null,
   "outputs": [],
   "source": [
    "def plot_clusters(X, y):\n",
    "    plt.scatter(X[:, 0], X[:, 1], c=y, marker='o', cmap=plt.cm.coolwarm)\n",
    "    plt.xlabel('x1')\n",
    "    plt.ylabel('x2')\n",
    "\n",
    "scaler = StandardScaler()\n",
    "X = scaler.fit_transform(X)\n"
   ],
   "metadata": {
    "collapsed": false,
    "pycharm": {
     "name": "#%%\n"
    }
   }
  },
  {
   "cell_type": "code",
   "execution_count": null,
   "outputs": [],
   "source": [
    "import matplotlib.cm as cm\n",
    "predict_result = {'kmeans': [], 'hierarchical_agglomerative':[], 'gaussian_mixture_model':[] }\n",
    "\n",
    "for n_clusters in range(2,6):\n",
    "    clusterer = KMeans(n_clusters=n_clusters, random_state=5)\n",
    "    cluster_labels = clusterer.fit_predict(X)\n",
    "    silhouette_avg = silhouette_score(X, cluster_labels)\n",
    "    predict_result['kmeans'].append({'hyp':{'n_clusters': n_clusters},\\\n",
    "                                     'cluster_labels': cluster_labels, \\\n",
    "                                     'silhouette_avg': silhouette_avg})\n",
    "    print(\"For n_clusters =\", n_clusters,\n",
    "          \"The average silhouette_score is :\", silhouette_avg)\n",
    "\n",
    "\n",
    "for n_clusters in range(2,6):\n",
    "    for  linkage in ['ward', 'complete', 'average', 'single']:\n",
    "        clusterer = AgglomerativeClustering(n_clusters=n_clusters, linkage = linkage)\n",
    "        cluster_labels = clusterer.fit_predict(X)\n",
    "        silhouette_avg = silhouette_score(X, cluster_labels)\n",
    "        predict_result['hierarchical_agglomerative'].append({'hyp':{'n_clusters':n_clusters, \\\n",
    "                                                             'linkage':linkage }, \\\n",
    "                                                             'cluster_labels':cluster_labels, \\\n",
    "                                                             'silhouette_avg':silhouette_avg})\n",
    "        print(\"For n_clusters = %s and linkage = \\'%s\\' The average silhouette_score is :%s\" % (n_clusters,linkage,silhouette_avg))\n",
    "\n",
    "\n",
    "for n_clusters in range(2,6):\n",
    "    for  covariance_type in ['full', 'tied', 'diag', 'spherical']:\n",
    "        clusterer = GaussianMixture(n_components=n_clusters, covariance_type = covariance_type)\n",
    "        cluster_labels = clusterer.fit_predict(X)\n",
    "        silhouette_avg = silhouette_score(X, cluster_labels)\n",
    "        predict_result['gaussian_mixture_model'].append({'hyp':{'n_clusters':n_clusters, \\\n",
    "                                                         'covariance_type':covariance_type},\\\n",
    "                                                         'cluster_labels':cluster_labels, \\\n",
    "                                                         'silhouette_avg':silhouette_avg})\n",
    "        print(\"For n_clusters = %s and covariance_type = \\'%s\\' The average silhouette_score is :%s\" % (n_clusters,covariance_type,silhouette_avg))\n",
    "\n",
    "\n",
    "# evaluation using ARI\n",
    "print('Evaluation using ARI:')\n",
    "for key, items in predict_result.items():\n",
    "    max_score = 0\n",
    "    best_hyp = items[0]['hyp']\n",
    "    for item in items:\n",
    "        score = adjusted_rand_score(y, item['cluster_labels'])\n",
    "        if score > max_score:\n",
    "            max_score = score\n",
    "            best_hyp = item['hyp']\n",
    "    print(key, end=': ')\n",
    "    for key, item in best_hyp.items():\n",
    "        print('%s: %s'%(key, item), end=' ')\n",
    "    print('adjusted_rand_score:', max_score)\n",
    "\n",
    "# evaluation using NMI\n",
    "print('\\nEvaluation using NMI:')\n",
    "for key, items in predict_result.items():\n",
    "    max_score = 0\n",
    "    best_hyp = items[0]['hyp']\n",
    "    for item in items:\n",
    "        score = normalized_mutual_info_score(y, item['cluster_labels'])\n",
    "        if score > max_score:\n",
    "            max_score = score\n",
    "            best_hyp = item['hyp']\n",
    "    print(key, end=': ')\n",
    "    for key, item in best_hyp.items():\n",
    "        print('%s: %s'%(key, item), end=' ')\n",
    "    print('adjusted_rand_score:', max_score)\n",
    "\n",
    "\n",
    "pca = PCA(n_components = 2)\n",
    "new_X = pca.fit_transform(X)\n",
    "plot_clusters(new_X, y)\n",
    "print(pca.explained_variance_ratio_)\n",
    "\n",
    "\n",
    "tsne = TSNE()\n",
    "new_X = tsne.fit_transform(X)\n",
    "plot_clusters(new_X, y)\n",
    "\n",
    "for key, items in predict_result.items():\n",
    "    for item in items:\n",
    "        fig, (ax1, ax2) = plt.subplots(1,2)\n",
    "        fig.set_size_inches(18, 7)\n",
    "\n",
    "        ax1.set_title(\"The visualization of the clustered data with true label.\")\n",
    "        ax1.set_xlabel(\"x1\")\n",
    "        ax1.set_ylabel(\"x2\")\n",
    "        ax1.scatter(new_X[:, 0], new_X[:, 1], c=y, marker='o', cmap=plt.cm.coolwarm)\n",
    "\n",
    "        ax2.scatter(new_X[:, 0], new_X[:, 1], c=item['cluster_labels'], marker='o', cmap=plt.cm.coolwarm)\n",
    "        ax2.set_title(\"The visualization of the clustered data with predict label.\")\n",
    "        ax2.set_xlabel(\"x1\")\n",
    "        ax2.set_ylabel(\"x2\")\n",
    "        hyp = [key + '= '+ str(item) for key,item in item['hyp'].items()]\n",
    "        hyp = ' and '.join(hyp)\n",
    "        title = key + ' clustering on sample data with ' + hyp\n",
    "\n",
    "        plt.suptitle((title), fontsize=14, fontweight='bold')\n",
    "plt.show()"
   ],
   "metadata": {
    "collapsed": false,
    "pycharm": {
     "name": "#%%\n"
    }
   }
  }
 ],
 "metadata": {
  "kernelspec": {
   "display_name": "Python 3",
   "language": "python",
   "name": "python3"
  },
  "language_info": {
   "codemirror_mode": {
    "name": "ipython",
    "version": 2
   },
   "file_extension": ".py",
   "mimetype": "text/x-python",
   "name": "python",
   "nbconvert_exporter": "python",
   "pygments_lexer": "ipython2",
   "version": "2.7.6"
  }
 },
 "nbformat": 4,
 "nbformat_minor": 0
}