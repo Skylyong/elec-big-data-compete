{
 "cells": [
  {
   "cell_type": "markdown",
   "source": [
    "## 用训练集训练模型，然后在测试集上面测试模型效果"
   ],
   "metadata": {
    "collapsed": false,
    "pycharm": {
     "name": "#%% md\n"
    }
   }
  },
  {
   "cell_type": "code",
   "execution_count": 1,
   "outputs": [
    {
     "name": "stdout",
     "output_type": "stream",
     "text": [
      "tensor([[51.6201, 59.3296, 45.8101,  ..., 49.2737, 58.8827, 65.9218],\n",
      "        [51.1547, 40.0693, 66.6282,  ..., 76.7898, 61.5473, 50.6928],\n",
      "        [87.1711, 90.1275, 86.1134,  ..., 92.1345, 96.0673, 88.4188],\n",
      "        ...,\n",
      "        [48.7455, 53.0466, 86.0215,  ..., 58.4229, 45.4002, 55.5556],\n",
      "        [86.3341, 87.9067, 85.9002,  ..., 87.6627, 88.5304, 90.5911],\n",
      "        [ 3.1894,  7.4837,  8.2622,  ..., 54.5455, 58.6389, 57.5339]],\n",
      "       dtype=torch.float64) tensor([1, 1, 0, 0, 3, 3, 3, 3, 2, 2, 1, 2, 0, 1, 0, 3, 3, 2, 3, 3, 2, 2, 0, 3,\n",
      "        3, 2, 2, 0, 3, 2, 1, 2, 3, 3, 3, 2, 2, 3, 0, 3, 2, 3, 2, 2, 3, 2, 2, 0,\n",
      "        3, 0, 3, 0, 2, 2, 3, 2, 2, 2, 2, 0, 3, 1, 0, 2, 3, 2, 3, 1, 3, 1, 2, 3,\n",
      "        0, 2, 2, 3, 1, 0, 3, 1, 3, 1, 3, 2, 3, 1, 1, 3, 1, 3, 1, 1, 2, 2, 2, 2,\n",
      "        3, 2, 1, 0, 3])\n"
     ]
    }
   ],
   "source": [
    "import copy\n",
    "import pandas as pd\n",
    "import torch\n",
    "import torch.nn as nn\n",
    "import logging as log\n",
    "from torch.optim import AdamW\n",
    "from back_tool import seed_everything,train_model,test_model,processing_data,MyDataset\n",
    "from models import MlpNeuralNet\n",
    "device = torch.device('cuda' if torch.cuda.is_available() else 'cpu')"
   ],
   "metadata": {
    "collapsed": false,
    "pycharm": {
     "name": "#%%\n"
    }
   }
  },
  {
   "cell_type": "markdown",
   "source": [
    "### 1.实验前准备"
   ],
   "metadata": {
    "collapsed": false,
    "pycharm": {
     "name": "#%% md\n"
    }
   }
  },
  {
   "cell_type": "markdown",
   "source": [
    "#### 1.1全局配置"
   ],
   "metadata": {
    "collapsed": false,
    "pycharm": {
     "name": "#%% md\n"
    }
   }
  },
  {
   "cell_type": "code",
   "execution_count": 2,
   "outputs": [],
   "source": [
    "LOG_FORMAT = \"%(asctime)s - %(levelname)s - %(message)s\"\n",
    "DATE_FORMAT = \"%m/%d/%Y %H:%M:%S %p\"\n",
    "log.basicConfig(filename='log/log.txt', filemode='w', level=log.DEBUG, format=LOG_FORMAT, datefmt=DATE_FORMAT)\n",
    "\n",
    "GLOB_CFG = { #训练的参数配置\n",
    "    'seed': 2,\n",
    "    'max_len': 100, #文本截断的最大长度\n",
    "    'epochs': 150,\n",
    "    'train_bs': 128, #batch_size，可根据自己的显存调整\n",
    "    'valid_bs': 256,\n",
    "    'test_bs': 256,\n",
    "    'lr': 8e-6, #学习率\n",
    "    'num_workers': 0,\n",
    "    'weight_decay': 2e-4, #权重衰减，防止过拟合\n",
    "    'device': 0,\n",
    "    'train_data': '模式识别数据集/train_data.pkl',\n",
    "    'test_data': None,\n",
    "    'val_data': '模式识别数据集/validation_data.pkl',\n",
    "    'log': log,\n",
    "    'train': True, #训练阶段为true 提交测试阶段为false\n",
    "    'processing_data': False,\n",
    "    'seq_length':300,\n",
    "    'sample_n': 200 # 抽取的样本条数，None表示抽取全部样本\n",
    "}\n",
    "\n",
    "seed_everything(GLOB_CFG['seed'])\n",
    "device = torch.device('cuda' if torch.cuda.is_available() else 'cpu')"
   ],
   "metadata": {
    "collapsed": false,
    "pycharm": {
     "name": "#%%\n"
    }
   }
  },
  {
   "cell_type": "markdown",
   "source": [
    "#### 1.2 导入数据"
   ],
   "metadata": {
    "collapsed": false,
    "pycharm": {
     "name": "#%% md\n"
    }
   }
  },
  {
   "cell_type": "code",
   "execution_count": 3,
   "outputs": [],
   "source": [
    "if GLOB_CFG['processing_data']:\n",
    "    processing_data('模式识别数据集', 'train', n=GLOB_CFG['sample_n'])\n",
    "    processing_data('模式识别数据集', 'validation', n=GLOB_CFG['sample_n'])\n",
    "train_df =  pd.read_pickle(GLOB_CFG['train_data'])\n",
    "test_df = None\n",
    "val_df = pd.read_pickle(GLOB_CFG['val_data'])\n",
    "data_set = MyDataset(train_df, test_df, val_df, GLOB_CFG)"
   ],
   "metadata": {
    "collapsed": false,
    "pycharm": {
     "name": "#%%\n"
    }
   }
  },
  {
   "cell_type": "markdown",
   "source": [
    "#### 实验一：多层感知机分类"
   ],
   "metadata": {
    "collapsed": false,
    "pycharm": {
     "name": "#%% md\n"
    }
   }
  },
  {
   "cell_type": "markdown",
   "source": [
    "#### 1.1 定义超参数"
   ],
   "metadata": {
    "collapsed": false,
    "pycharm": {
     "name": "#%% md\n"
    }
   }
  },
  {
   "cell_type": "code",
   "execution_count": 6,
   "outputs": [],
   "source": [
    "MLP_CFG = GLOB_CFG.copy()\n",
    "log.basicConfig(filename='log/mlp_log.txt', filemode='w', level=log.DEBUG, format=LOG_FORMAT, datefmt=DATE_FORMAT)\n",
    "MLP_CFG['log'] = log\n",
    "MLP_CFG['hidden_dim'] = 128\n",
    "MLP_CFG['feature_count'] = 1"
   ],
   "metadata": {
    "collapsed": false,
    "pycharm": {
     "name": "#%%\n"
    }
   }
  },
  {
   "cell_type": "markdown",
   "source": [
    "#### 1.2 定义模型并训练"
   ],
   "metadata": {
    "collapsed": false,
    "pycharm": {
     "name": "#%% md\n"
    }
   }
  },
  {
   "cell_type": "code",
   "execution_count": null,
   "outputs": [
    {
     "name": "stderr",
     "output_type": "stream",
     "text": [
      "100%|██████████| 1/1 [00:02<00:00,  2.02s/it, acc=0.139, loss=15.7]\n",
      "100%|██████████| 1/1 [00:00<00:00,  1.82it/s, acc=0.119, loss=16.2]\n",
      "100%|██████████| 1/1 [00:00<00:00,  1.47it/s, acc=0.139, loss=15.4]\n",
      "100%|██████████| 1/1 [00:00<00:00,  1.67it/s, acc=0.119, loss=15.9]\n",
      "100%|██████████| 1/1 [00:00<00:00,  1.62it/s, acc=0.139, loss=15.1]\n",
      "100%|██████████| 1/1 [00:00<00:00,  1.68it/s, acc=0.119, loss=15.6]\n",
      "100%|██████████| 1/1 [00:00<00:00,  1.39it/s, acc=0.139, loss=14.8]\n",
      "100%|██████████| 1/1 [00:00<00:00,  1.72it/s, acc=0.119, loss=15.3]\n",
      "100%|██████████| 1/1 [00:00<00:00,  1.56it/s, acc=0.139, loss=14.5]\n",
      "100%|██████████| 1/1 [00:00<00:00,  1.91it/s, acc=0.119, loss=15]\n",
      "100%|██████████| 1/1 [00:00<00:00,  1.63it/s, acc=0.139, loss=14.2]\n",
      "100%|██████████| 1/1 [00:00<00:00,  1.69it/s, acc=0.119, loss=14.6]\n",
      "100%|██████████| 1/1 [00:00<00:00,  1.40it/s, acc=0.139, loss=13.9]\n",
      "100%|██████████| 1/1 [00:00<00:00,  1.83it/s, acc=0.119, loss=14.3]\n",
      "100%|██████████| 1/1 [00:00<00:00,  1.85it/s, acc=0.139, loss=13.6]\n",
      "100%|██████████| 1/1 [00:00<00:00,  1.81it/s, acc=0.119, loss=14]\n",
      "100%|██████████| 1/1 [00:00<00:00,  1.79it/s, acc=0.139, loss=13.3]\n",
      "100%|██████████| 1/1 [00:00<00:00,  1.80it/s, acc=0.119, loss=13.7]\n",
      "100%|██████████| 1/1 [00:00<00:00,  1.99it/s, acc=0.139, loss=13]\n",
      "100%|██████████| 1/1 [00:00<00:00,  1.62it/s, acc=0.119, loss=13.4]\n",
      "100%|██████████| 1/1 [00:00<00:00,  1.40it/s, acc=0.139, loss=12.7]\n",
      "100%|██████████| 1/1 [00:01<00:00,  1.18s/it, acc=0.109, loss=13.1]\n",
      "100%|██████████| 1/1 [00:00<00:00,  1.48it/s, acc=0.139, loss=12.4]\n",
      "100%|██████████| 1/1 [00:00<00:00,  1.10it/s, acc=0.109, loss=12.8]\n",
      "100%|██████████| 1/1 [00:00<00:00,  1.41it/s, acc=0.139, loss=12.1]\n",
      "100%|██████████| 1/1 [00:00<00:00,  1.85it/s, acc=0.109, loss=12.5]\n",
      "100%|██████████| 1/1 [00:00<00:00,  1.73it/s, acc=0.129, loss=11.8]\n",
      "100%|██████████| 1/1 [00:00<00:00,  2.01it/s, acc=0.109, loss=12.2]\n",
      "100%|██████████| 1/1 [00:00<00:00,  1.90it/s, acc=0.129, loss=11.5]\n",
      "100%|██████████| 1/1 [00:00<00:00,  1.53it/s, acc=0.109, loss=11.9]\n",
      "100%|██████████| 1/1 [00:00<00:00,  1.91it/s, acc=0.129, loss=11.3]\n",
      "100%|██████████| 1/1 [00:00<00:00,  1.94it/s, acc=0.109, loss=11.6]\n",
      "100%|██████████| 1/1 [00:00<00:00,  1.69it/s, acc=0.129, loss=11]\n",
      "100%|██████████| 1/1 [00:00<00:00,  2.11it/s, acc=0.0891, loss=11.3]\n",
      "100%|██████████| 1/1 [00:00<00:00,  1.75it/s, acc=0.129, loss=10.7]\n",
      "100%|██████████| 1/1 [00:00<00:00,  1.65it/s, acc=0.0891, loss=11]\n",
      "100%|██████████| 1/1 [00:00<00:00,  1.72it/s, acc=0.129, loss=10.4]\n",
      "100%|██████████| 1/1 [00:00<00:00,  1.98it/s, acc=0.0891, loss=10.7]\n",
      "100%|██████████| 1/1 [00:00<00:00,  1.93it/s, acc=0.129, loss=10.1]\n",
      "100%|██████████| 1/1 [00:00<00:00,  2.07it/s, acc=0.0891, loss=10.4]\n",
      "100%|██████████| 1/1 [00:00<00:00,  1.86it/s, acc=0.129, loss=9.84]\n",
      "100%|██████████| 1/1 [00:00<00:00,  1.56it/s, acc=0.0792, loss=10.1]\n",
      "100%|██████████| 1/1 [00:00<00:00,  1.78it/s, acc=0.119, loss=9.57]\n",
      "100%|██████████| 1/1 [00:00<00:00,  2.15it/s, acc=0.0792, loss=9.81]\n",
      "100%|██████████| 1/1 [00:00<00:00,  1.93it/s, acc=0.119, loss=9.3]\n",
      "100%|██████████| 1/1 [00:00<00:00,  2.04it/s, acc=0.0792, loss=9.52]\n",
      "100%|██████████| 1/1 [00:00<00:00,  1.81it/s, acc=0.119, loss=9.03]\n",
      "100%|██████████| 1/1 [00:00<00:00,  2.04it/s, acc=0.0693, loss=9.24]\n",
      "100%|██████████| 1/1 [00:00<00:00,  1.98it/s, acc=0.119, loss=8.76]\n",
      "100%|██████████| 1/1 [00:00<00:00,  2.01it/s, acc=0.0693, loss=8.95]\n",
      "100%|██████████| 1/1 [00:00<00:00,  1.83it/s, acc=0.119, loss=8.5]\n",
      "100%|██████████| 1/1 [00:00<00:00,  1.75it/s, acc=0.0693, loss=8.67]\n",
      "100%|██████████| 1/1 [00:00<00:00,  1.97it/s, acc=0.119, loss=8.24]\n",
      "100%|██████████| 1/1 [00:00<00:00,  2.20it/s, acc=0.0693, loss=8.4]\n",
      "100%|██████████| 1/1 [00:00<00:00,  1.97it/s, acc=0.119, loss=7.98]\n",
      "100%|██████████| 1/1 [00:00<00:00,  2.24it/s, acc=0.0693, loss=8.13]\n",
      "100%|██████████| 1/1 [00:00<00:00,  2.03it/s, acc=0.119, loss=7.73]\n",
      "100%|██████████| 1/1 [00:00<00:00,  2.27it/s, acc=0.0693, loss=7.86]\n",
      "100%|██████████| 1/1 [00:00<00:00,  2.04it/s, acc=0.109, loss=7.48]\n",
      "100%|██████████| 1/1 [00:00<00:00,  1.85it/s, acc=0.0594, loss=7.59]\n",
      "100%|██████████| 1/1 [00:00<00:00,  1.55it/s, acc=0.109, loss=7.24]\n",
      "100%|██████████| 1/1 [00:00<00:00,  2.23it/s, acc=0.0594, loss=7.33]\n",
      "100%|██████████| 1/1 [00:00<00:00,  2.11it/s, acc=0.099, loss=7.01]\n",
      "100%|██████████| 1/1 [00:00<00:00,  2.12it/s, acc=0.0594, loss=7.07]\n",
      "100%|██████████| 1/1 [00:00<00:00,  1.86it/s, acc=0.0891, loss=6.77]\n",
      "100%|██████████| 1/1 [00:00<00:00,  1.96it/s, acc=0.0594, loss=6.82]\n",
      "100%|██████████| 1/1 [00:00<00:00,  2.06it/s, acc=0.0792, loss=6.55]\n",
      "100%|██████████| 1/1 [00:00<00:00,  2.19it/s, acc=0.0495, loss=6.57]\n",
      "100%|██████████| 1/1 [00:00<00:00,  1.92it/s, acc=0.0792, loss=6.33]\n",
      "100%|██████████| 1/1 [00:00<00:00,  1.69it/s, acc=0.0495, loss=6.33]\n",
      "100%|██████████| 1/1 [00:00<00:00,  1.76it/s, acc=0.0792, loss=6.11]\n",
      "100%|██████████| 1/1 [00:00<00:00,  2.04it/s, acc=0.0396, loss=6.1]\n",
      "100%|██████████| 1/1 [00:00<00:00,  1.82it/s, acc=0.0792, loss=5.91]\n",
      "100%|██████████| 1/1 [00:00<00:00,  2.06it/s, acc=0.0495, loss=5.87]\n",
      "100%|██████████| 1/1 [00:00<00:00,  1.80it/s, acc=0.0693, loss=5.71]\n",
      "100%|██████████| 1/1 [00:00<00:00,  1.98it/s, acc=0.0594, loss=5.65]\n",
      "100%|██████████| 1/1 [00:00<00:00,  1.63it/s, acc=0.0693, loss=5.51]\n",
      "100%|██████████| 1/1 [00:00<00:00,  2.01it/s, acc=0.0594, loss=5.44]\n",
      "100%|██████████| 1/1 [00:00<00:00,  1.80it/s, acc=0.0693, loss=5.33]\n",
      "100%|██████████| 1/1 [00:00<00:00,  1.83it/s, acc=0.0495, loss=5.24]\n",
      "100%|██████████| 1/1 [00:00<00:00,  1.70it/s, acc=0.0792, loss=5.15]\n",
      "100%|██████████| 1/1 [00:00<00:00,  1.85it/s, acc=0.0495, loss=5.05]\n",
      "100%|██████████| 1/1 [00:00<00:00,  1.59it/s, acc=0.0891, loss=4.99]\n",
      "100%|██████████| 1/1 [00:00<00:00,  1.41it/s, acc=0.0792, loss=4.87]\n",
      "100%|██████████| 1/1 [00:00<00:00,  1.51it/s, acc=0.109, loss=4.83]\n",
      "100%|██████████| 1/1 [00:00<00:00,  1.72it/s, acc=0.0891, loss=4.7]\n",
      "100%|██████████| 1/1 [00:00<00:00,  1.69it/s, acc=0.109, loss=4.68]\n",
      "100%|██████████| 1/1 [00:00<00:00,  2.01it/s, acc=0.099, loss=4.54]\n",
      "100%|██████████| 1/1 [00:00<00:00,  1.92it/s, acc=0.119, loss=4.54]\n",
      "100%|██████████| 1/1 [00:00<00:00,  1.96it/s, acc=0.119, loss=4.39]\n",
      "100%|██████████| 1/1 [00:00<00:00,  1.51it/s, acc=0.129, loss=4.41]\n",
      "100%|██████████| 1/1 [00:00<00:00,  2.10it/s, acc=0.149, loss=4.25]\n",
      "100%|██████████| 1/1 [00:00<00:00,  1.93it/s, acc=0.168, loss=4.29]\n",
      "100%|██████████| 1/1 [00:00<00:00,  2.14it/s, acc=0.158, loss=4.13]\n",
      "100%|██████████| 1/1 [00:00<00:00,  1.97it/s, acc=0.198, loss=4.18]\n",
      "100%|██████████| 1/1 [00:00<00:00,  2.10it/s, acc=0.208, loss=4.01]\n",
      "100%|██████████| 1/1 [00:00<00:00,  1.88it/s, acc=0.218, loss=4.07]\n",
      "100%|██████████| 1/1 [00:00<00:00,  1.67it/s, acc=0.218, loss=3.9]\n",
      "100%|██████████| 1/1 [00:00<00:00,  1.63it/s, acc=0.228, loss=3.97]\n",
      "100%|██████████| 1/1 [00:00<00:00,  2.08it/s, acc=0.228, loss=3.8]\n",
      "100%|██████████| 1/1 [00:00<00:00,  1.85it/s, acc=0.257, loss=3.88]\n",
      "100%|██████████| 1/1 [00:00<00:00,  2.11it/s, acc=0.277, loss=3.71]\n",
      "100%|██████████| 1/1 [00:00<00:00,  1.91it/s, acc=0.287, loss=3.79]\n",
      "100%|██████████| 1/1 [00:00<00:00,  2.02it/s, acc=0.287, loss=3.62]\n",
      "100%|██████████| 1/1 [00:00<00:00,  1.93it/s, acc=0.317, loss=3.71]\n",
      "100%|██████████| 1/1 [00:00<00:00,  1.99it/s, acc=0.307, loss=3.54]\n",
      "  0%|          | 0/1 [00:00<?, ?it/s]"
     ]
    }
   ],
   "source": [
    "\n",
    "model = MlpNeuralNet(MLP_CFG['seq_length']*MLP_CFG['feature_count'],\\\n",
    "    MLP_CFG['hidden_dim'],\\\n",
    "    data_set.get_label_num()).to(device)\n",
    "optimizer = AdamW(model.parameters(), lr=MLP_CFG['lr'], weight_decay=MLP_CFG['weight_decay'])\n",
    "criterion = nn.CrossEntropyLoss()\n",
    "\n",
    "for epoch in range(MLP_CFG['epochs']):\n",
    "        train_loss, train_acc = train_model(model,optimizer,  data_set,device,criterion, MLP_CFG)\n",
    "        val_loss, val_acc = test_model(model, data_set,criterion, device,MLP_CFG)\n",
    "        best_acc = 0\n",
    "        if val_acc > best_acc:\n",
    "            torch.save(model.state_dict(), './model_saved/{}_mlp_{}.pt'.format(epoch, round(val_acc, 4)))\n",
    "            best_acc = val_acc"
   ],
   "metadata": {
    "collapsed": false,
    "pycharm": {
     "name": "#%%\n",
     "is_executing": true
    }
   }
  },
  {
   "cell_type": "code",
   "execution_count": null,
   "outputs": [],
   "source": [],
   "metadata": {
    "collapsed": false,
    "pycharm": {
     "name": "#%%\n"
    }
   }
  }
 ],
 "metadata": {
  "kernelspec": {
   "display_name": "Python 3",
   "language": "python",
   "name": "python3"
  },
  "language_info": {
   "codemirror_mode": {
    "name": "ipython",
    "version": 2
   },
   "file_extension": ".py",
   "mimetype": "text/x-python",
   "name": "python",
   "nbconvert_exporter": "python",
   "pygments_lexer": "ipython2",
   "version": "2.7.6"
  }
 },
 "nbformat": 4,
 "nbformat_minor": 0
}